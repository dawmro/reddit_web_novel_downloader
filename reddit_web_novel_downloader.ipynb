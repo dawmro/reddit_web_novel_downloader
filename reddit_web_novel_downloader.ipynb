{
  "nbformat": 4,
  "nbformat_minor": 0,
  "metadata": {
    "colab": {
      "provenance": [],
      "authorship_tag": "ABX9TyMEKvUjoLONE2kPsD+GHkjQ",
      "include_colab_link": true
    },
    "kernelspec": {
      "name": "python3",
      "display_name": "Python 3"
    },
    "language_info": {
      "name": "python"
    }
  },
  "cells": [
    {
      "cell_type": "markdown",
      "metadata": {
        "id": "view-in-github",
        "colab_type": "text"
      },
      "source": [
        "<a href=\"https://colab.research.google.com/github/dawmro/reddit_web_novel_downloader/blob/main/reddit_web_novel_downloader.ipynb\" target=\"_parent\"><img src=\"https://colab.research.google.com/assets/colab-badge.svg\" alt=\"Open In Colab\"/></a>"
      ]
    },
    {
      "cell_type": "code",
      "source": [
        "!pip install requests\n",
        "!pip install beautifulsoup4\n",
        "\n",
        "import os\n",
        "import requests\n",
        "import csv\n",
        "import time\n",
        "from bs4 import BeautifulSoup\n",
        "\n",
        "\n",
        "\n",
        "if not os.path.exists(\"stories\"):\n",
        "  os.makedirs(\"stories\")\n",
        "\n",
        "# initial url\n",
        "url = \"https://www.reddit.com/r/GATEhouse/comments/13g00vt/wait_is_this_just_gate_360/\"\n",
        "\n",
        "link_to_next_chapter = url\n",
        "\n",
        "while (link_to_next_chapter != ''):\n",
        "\n",
        "  chapter_number = link_to_next_chapter.split('wait_is_this_just_gate_')[1].strip('/')\n",
        "\n",
        "  # Headers to mimic a browser visit\n",
        "  headers = {'User-Agent': 'Mozilla/5.0'}\n",
        "\n",
        "  # Returns a requests.models.Response object\n",
        "  page = requests.get(link_to_next_chapter, headers=headers)\n",
        "\n",
        "  soup = BeautifulSoup(page.text, 'html.parser')\n",
        "\n",
        "  domains = soup.find_all(\"div\", class_=\"_3xX726aBn29LDbsDtzr_6E _1Ap4F5maDtT1E1YuCiaO0r D3IL3FD0RFy_mkKLPwL4\")\n",
        "\n",
        "  p_tag = soup.find_all(\"p\")\n",
        "  past_writer_note = False\n",
        "  story = []\n",
        "  link_to_next_chapter = ''\n",
        "  for i in p_tag:\n",
        "    text = i.get_text()\n",
        "    \n",
        "    if ('[Next]' not in text):\n",
        "      if (past_writer_note == True):\n",
        "        story.append(text)\n",
        "    else:\n",
        "      line_with_link_to_next_chapter = i\n",
        "      break\n",
        "    \n",
        "    if ('~' in text):\n",
        "      past_writer_note = True\n",
        "\n",
        "  for a in line_with_link_to_next_chapter.find_all('a', href=True):\n",
        "    link_to_next_chapter = a['href']\n",
        "\n",
        "  print(f\" Next: {link_to_next_chapter}\")\n",
        "\n",
        "  title = []\n",
        "  title.append('Wait, is this just GATE?')\n",
        "  title.append(f\"Chapter {chapter_number}.\")\n",
        "  title.append('Written by PepperAntique.')\n",
        "\n",
        "  if not os.path.exists(f\"stories/Wait, is this just GATE Chapter {chapter_number}\"):\n",
        "    os.makedirs(f\"stories/Wait, is this just GATE Chapter {chapter_number}\")\n",
        "\n",
        "  with open(f\"stories/Wait, is this just GATE Chapter {chapter_number}/story.txt\", 'w') as fp:\n",
        "    for tit in title:\n",
        "      fp.write(\"%s\\n\" % tit)\n",
        "\n",
        "    fp.write(\"%s\\n\" % '')\n",
        "\n",
        "    for line in story:\n",
        "      # write each item on a new line\n",
        "      fp.write(\"%s\\n\" % line)\n",
        "\n",
        "  print(f\"< Wait, is this just GATE Chapter {chapter_number} Done\")"
      ],
      "metadata": {
        "id": "DGq0N_XyVfjU"
      },
      "execution_count": null,
      "outputs": []
    },
    {
      "cell_type": "code",
      "source": [
        "!zip -r file.zip stories\n",
        "from google.colab import files\n",
        "files.download(\"file.zip\")"
      ],
      "metadata": {
        "id": "2Ilh-mHCsXZP"
      },
      "execution_count": null,
      "outputs": []
    }
  ]
}