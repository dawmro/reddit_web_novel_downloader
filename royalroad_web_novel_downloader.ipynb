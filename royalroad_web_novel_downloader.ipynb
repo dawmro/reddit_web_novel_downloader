{
  "nbformat": 4,
  "nbformat_minor": 0,
  "metadata": {
    "colab": {
      "provenance": [],
      "authorship_tag": "ABX9TyPLQFKTpz8fYx5q5ambcC/H",
      "include_colab_link": true
    },
    "kernelspec": {
      "name": "python3",
      "display_name": "Python 3"
    },
    "language_info": {
      "name": "python"
    }
  },
  "cells": [
    {
      "cell_type": "markdown",
      "metadata": {
        "id": "view-in-github",
        "colab_type": "text"
      },
      "source": [
        "<a href=\"https://colab.research.google.com/github/dawmro/reddit_web_novel_downloader/blob/main/royalroad_web_novel_downloader.ipynb\" target=\"_parent\"><img src=\"https://colab.research.google.com/assets/colab-badge.svg\" alt=\"Open In Colab\"/></a>"
      ]
    },
    {
      "cell_type": "code",
      "source": [
        "!pip install requests\n",
        "!pip install beautifulsoup4\n",
        "\n",
        "import os\n",
        "import requests\n",
        "import csv\n",
        "import time\n",
        "from bs4 import BeautifulSoup\n",
        "\n",
        "\n",
        "\n",
        "if not os.path.exists(\"stories\"):\n",
        "  os.makedirs(\"stories\")\n",
        "\n",
        "# initial url\n",
        "url = \"https://www.royalroad.com/fiction/42118/gate-war-of-two-worlds-part-2/chapter/664041/v14-chapter-167-naminto\"\n",
        "\n",
        "link_to_next_chapter = url\n",
        "\n",
        "while (link_to_next_chapter != ''):\n",
        "\n",
        "  # Headers to mimic a browser visit\n",
        "  headers = {'User-Agent': 'Mozilla/5.0'}\n",
        "\n",
        "  # Returns a requests.models.Response object\n",
        "  page = requests.get(link_to_next_chapter, headers=headers)\n",
        "\n",
        "  soup = BeautifulSoup(page.text, 'html.parser')\n",
        "\n",
        "  # get next chapter link\n",
        "  line_with_link_to_next_chapter = soup.find(\"div\", class_=\"col-xs-6 col-md-4 col-md-offset-4 col-lg-3 col-lg-offset-6\")\n",
        "  link_to_next_chapter = 'https://www.royalroad.com' + str(line_with_link_to_next_chapter.find('a', href=True)['href'])\n",
        "  print(f\" Next: {link_to_next_chapter}\")\n",
        "\n",
        "  # get chapter name\n",
        "  chapter_number = soup.find(\"h1\", class_=\"font-white\").get_text()\n",
        "\n",
        "  #time.sleep(1000)\n",
        "\n",
        "  # get chapter content\n",
        "  domains = soup.find_all(\"div\", class_=\"chapter-inner chapter-content\")\n",
        "\n",
        "  p_tag = soup.find_all(\"p\")\n",
        "  story = []\n",
        "\n",
        "  for i in p_tag:\n",
        "    text = i.get_text()\n",
        "    \n",
        "    if ((text == ' Reference') or (text == 'Reference') or (text == 'Reference:') or (text == ' Reference:') or (text == 'References') or (text == ' References') or (text == 'References:') or (text == ' References:')):\n",
        "      break\n",
        "    else:\n",
        "      story.append(text)\n",
        "\n",
        "  title = []\n",
        "  title.append('Gate: War of Two Worlds Part 2')\n",
        "  title.append(f\"{chapter_number}\")\n",
        "  title.append('Written by PWOFalcon.')\n",
        "\n",
        "  chapter_number= chapter_number.replace('-','')\n",
        "\n",
        "  if not os.path.exists(f\"stories/Gate War of Two Worlds Part 2, {chapter_number}\"):\n",
        "    os.makedirs(f\"stories/Gate War of Two Worlds Part 2, {chapter_number}\")\n",
        "\n",
        "  with open(f\"stories/Gate War of Two Worlds Part 2, {chapter_number}/story.txt\", 'w') as fp:\n",
        "    for tit in title:\n",
        "      fp.write(\"%s\\n\" % tit)\n",
        "\n",
        "    fp.write(\"%s\\n\" % '')\n",
        "\n",
        "    for line in story:\n",
        "      # write each item on a new line\n",
        "      fp.write(\"%s\\n\" % line)\n",
        "\n",
        "  print(f\"< Gate War of Two Worlds Part 2, {chapter_number} Done\")"
      ],
      "metadata": {
        "id": "DGq0N_XyVfjU"
      },
      "execution_count": null,
      "outputs": []
    },
    {
      "cell_type": "code",
      "source": [
        "!zip -r file.zip stories\n",
        "from google.colab import files\n",
        "files.download(\"file.zip\")"
      ],
      "metadata": {
        "id": "2Ilh-mHCsXZP"
      },
      "execution_count": null,
      "outputs": []
    }
  ]
}