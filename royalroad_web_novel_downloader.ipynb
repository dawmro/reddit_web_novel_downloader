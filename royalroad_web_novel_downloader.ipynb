{
  "nbformat": 4,
  "nbformat_minor": 0,
  "metadata": {
    "colab": {
      "provenance": [],
      "authorship_tag": "ABX9TyO5F2Thq4EWp1TRzCs6AnLh",
      "include_colab_link": true
    },
    "kernelspec": {
      "name": "python3",
      "display_name": "Python 3"
    },
    "language_info": {
      "name": "python"
    }
  },
  "cells": [
    {
      "cell_type": "markdown",
      "metadata": {
        "id": "view-in-github",
        "colab_type": "text"
      },
      "source": [
        "<a href=\"https://colab.research.google.com/github/dawmro/reddit_web_novel_downloader/blob/main/royalroad_web_novel_downloader.ipynb\" target=\"_parent\"><img src=\"https://colab.research.google.com/assets/colab-badge.svg\" alt=\"Open In Colab\"/></a>"
      ]
    },
    {
      "cell_type": "code",
      "source": [
        "!pip install requests\n",
        "!pip install beautifulsoup4\n",
        "\n",
        "import os\n",
        "import requests\n",
        "import csv\n",
        "import time\n",
        "from bs4 import BeautifulSoup\n",
        "\n",
        "\n",
        "\n",
        "if not os.path.exists(\"stories\"):\n",
        "  os.makedirs(\"stories\")\n",
        "\n",
        "# initial url\n",
        "url = \"https://www.royalroad.com/fiction/30541/40-thousand-reasons/chapter/463230/retribution-chapter-one\"\n",
        "link_to_next_chapter = url\n",
        "number = 1\n",
        "\n",
        "while (link_to_next_chapter != ''):\n",
        "  # Headers to mimic a browser visit\n",
        "  headers = {'User-Agent': 'Mozilla/5.0'}\n",
        "\n",
        "  # Returns a requests.models.Response object\n",
        "  page = requests.get(link_to_next_chapter, headers=headers)\n",
        "\n",
        "  soup = BeautifulSoup(page.text, 'html.parser')\n",
        "\n",
        "  # get next chapter link\n",
        "  line_with_link_to_next_chapter = soup.find(\"div\", class_=\"col-xs-6 col-md-4 col-md-offset-4 col-lg-3 col-lg-offset-6\")\n",
        "  try:\n",
        "    link_to_next_chapter = 'https://www.royalroad.com' + str(line_with_link_to_next_chapter.find('a', href=True)['href'])\n",
        "  except:\n",
        "    link_to_next_chapter = ''\n",
        "  print(f\" Next: {link_to_next_chapter}\")\n",
        "\n",
        "  # get chapter name\n",
        "  chapter_name = soup.find(\"h1\", class_=\"font-white\").get_text()\n",
        "\n",
        "  #time.sleep(1000)\n",
        "\n",
        "  for br in soup.find_all('br'):\n",
        "    # Replace each br tag with a newline character (\"\\n\")\n",
        "    br.replace_with('\\n')\n",
        "\n",
        "  # get chapter content\n",
        "  domains = soup.find_all(\"div\", class_=\"chapter-inner chapter-content\")\n",
        "\n",
        "\n",
        "  #div_tag = soup.find_all(\"div\")\n",
        "  story = []\n",
        "\n",
        "  for domain in domains:\n",
        "    #print(domain)\n",
        "    text = domain.get_text()\n",
        "    #print(text)\n",
        "    #programPause = input(\"Press the <ENTER> key to continue...\")\n",
        "    if (text == ' Bio:'):\n",
        "      break\n",
        "    else:\n",
        "      story.append(text)\n",
        "\n",
        "  title = []\n",
        "  titl = '40 Thousand Reasons,'\n",
        "  title.append(titl)\n",
        "  title.append(f\"Chapter number {number}: {chapter_name},\")\n",
        "  title.append('Written by Pef.')\n",
        "\n",
        "  chapter_name= chapter_name.replace('-',' ').replace('?','').replace('!','')\n",
        "\n",
        "  dir_name = f\"{titl} Chapter {number}, {chapter_name}\"\n",
        "\n",
        "  if not os.path.exists(f\"stories/{dir_name}\"):\n",
        "    os.makedirs(f\"stories/{dir_name}\")\n",
        "\n",
        "  with open(f\"stories/{dir_name}/story.txt\", 'w') as fp:\n",
        "    for tit in title:\n",
        "      fp.write(\"%s\\n\" % tit)\n",
        "\n",
        "    fp.write(\"%s\\n\" % '')\n",
        "\n",
        "    for line in story:\n",
        "      # write each item on a new line\n",
        "      fp.write(\"%s\\n\" % line)\n",
        "\n",
        "  number += 1\n",
        "  print(f\"< {dir_name} Done\")"
      ],
      "metadata": {
        "id": "DGq0N_XyVfjU"
      },
      "execution_count": null,
      "outputs": []
    },
    {
      "cell_type": "code",
      "source": [
        "!zip -r file.zip stories\n",
        "from google.colab import files\n",
        "files.download(\"file.zip\")"
      ],
      "metadata": {
        "id": "2Ilh-mHCsXZP"
      },
      "execution_count": null,
      "outputs": []
    }
  ]
}